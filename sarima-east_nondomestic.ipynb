{
 "cells": [
  {
   "cell_type": "code",
   "execution_count": null,
   "id": "dbf45102",
   "metadata": {},
   "outputs": [],
   "source": [
    "import numpy as np\n",
    "import pandas as pd\n",
    "import matplotlib.pyplot as plt\n",
    "%matplotlib inline"
   ]
  },
  {
   "cell_type": "code",
   "execution_count": null,
   "id": "b8fb9ab0",
   "metadata": {},
   "outputs": [],
   "source": [
    "data=pd.read_csv(\"C:/Users/ritvi/east_nondomestic.csv\")"
   ]
  },
  {
   "cell_type": "code",
   "execution_count": null,
   "id": "4e172f23",
   "metadata": {},
   "outputs": [],
   "source": [
    "data['date']=pd.to_datetime(data['date'])\n",
    "data.set_index('date',inplace=True)\n",
    "data.head()"
   ]
  },
  {
   "cell_type": "code",
   "execution_count": null,
   "id": "1f00d8b8",
   "metadata": {},
   "outputs": [],
   "source": [
    "    import plotly.offline as py\n",
    "    py.init_notebook_mode(connected=True)\n",
    "    py.enable_mpl_offline()\n",
    "\n",
    "    import cufflinks as cf\n",
    "    cf.go_offline()"
   ]
  },
  {
   "cell_type": "code",
   "execution_count": null,
   "id": "8c90cd95",
   "metadata": {},
   "outputs": [],
   "source": [
    "from statsmodels.tsa.seasonal import seasonal_decompose\n",
    "result = seasonal_decompose(data, model='multiplicative')\n",
    "\n",
    "fig = result.plot()"
   ]
  },
  {
   "cell_type": "code",
   "execution_count": null,
   "id": "bfe4dab6",
   "metadata": {},
   "outputs": [],
   "source": [
    "py.iplot_mpl(fig)"
   ]
  },
  {
   "cell_type": "code",
   "execution_count": null,
   "id": "52426ded",
   "metadata": {},
   "outputs": [],
   "source": [
    "from pmdarima import auto_arima"
   ]
  },
  {
   "cell_type": "code",
   "execution_count": null,
   "id": "69af8b22",
   "metadata": {},
   "outputs": [],
   "source": [
    "stepwise_model = auto_arima(data, start_p=0, start_q=0,\n",
    "                           max_p=3, max_q=3, m=7,\n",
    "                           start_P=0, seasonal=True,\n",
    "                           d=1, D=1, trace=True,\n",
    "                           error_action='ignore',  \n",
    "                           suppress_warnings=True, \n",
    "                           stepwise=True)"
   ]
  },
  {
   "cell_type": "code",
   "execution_count": null,
   "id": "ad411fdb",
   "metadata": {},
   "outputs": [],
   "source": [
    "print(stepwise_model.aic())"
   ]
  },
  {
   "cell_type": "code",
   "execution_count": null,
   "id": "95984ea1",
   "metadata": {},
   "outputs": [],
   "source": [
    "# For the Test: we'll need to chop off a portion of our latest data\n",
    "test = data.loc['2023-05-15':]\n",
    "\n",
    "# Fore the Train: we'll train on the rest of the data after split the test portion\n",
    "train = data.loc['2023-01-15':'2023-05-14']"
   ]
  },
  {
   "cell_type": "code",
   "execution_count": null,
   "id": "bc727a10",
   "metadata": {},
   "outputs": [],
   "source": [
    "stepwise_model.fit(train)"
   ]
  },
  {
   "cell_type": "code",
   "execution_count": null,
   "id": "3d010615",
   "metadata": {},
   "outputs": [],
   "source": [
    "future_forecast = stepwise_model.predict(n_periods=42)\n",
    "print(future_forecast)"
   ]
  },
  {
   "cell_type": "code",
   "execution_count": null,
   "id": "d0a5c672",
   "metadata": {},
   "outputs": [],
   "source": [
    "future_forecast = pd.DataFrame(future_forecast, index=test.index, columns=['Prediction'])"
   ]
  },
  {
   "cell_type": "code",
   "execution_count": null,
   "id": "4d74cd0f",
   "metadata": {},
   "outputs": [],
   "source": [
    "pd.concat([test, future_forecast], axis=1).iplot()"
   ]
  },
  {
   "cell_type": "code",
   "execution_count": null,
   "id": "cc23ddc8",
   "metadata": {},
   "outputs": [],
   "source": [
    "pd.concat([data,future_forecast],axis=1).iplot()"
   ]
  },
  {
   "cell_type": "code",
   "execution_count": null,
   "id": "9965e6af",
   "metadata": {},
   "outputs": [],
   "source": [
    "stepwise_model.fit(data)"
   ]
  },
  {
   "cell_type": "code",
   "execution_count": null,
   "id": "718ff5a3",
   "metadata": {},
   "outputs": [],
   "source": [
    "future_forecast_1year = stepwise_model.predict(n_periods=42)\n",
    "val=future_forecast_1year"
   ]
  },
  {
   "cell_type": "code",
   "execution_count": null,
   "id": "5e633d59",
   "metadata": {},
   "outputs": [],
   "source": [
    "next_year = [pd.to_datetime('2023-06-24'),\n",
    "            pd.to_datetime('2023-06-26'),\n",
    "            pd.to_datetime('2023-06-27'),\n",
    "            pd.to_datetime('2023-06-28'),\n",
    "            pd.to_datetime('2023-06-29'),\n",
    "            pd.to_datetime('2023-06-30'),\n",
    "            pd.to_datetime('2023-07-01'),\n",
    "            pd.to_datetime('2023-07-02'),\n",
    "            pd.to_datetime('2023-07-03'),\n",
    "            pd.to_datetime('2023-07-04'),\n",
    "            pd.to_datetime('2023-07-05'),\n",
    "            pd.to_datetime('2023-07-06'),\n",
    "            pd.to_datetime('2023-07-07'),]"
   ]
  },
  {
   "cell_type": "code",
   "execution_count": null,
   "id": "62503b58",
   "metadata": {},
   "outputs": [],
   "source": [
    "future_forecast_1year = pd.DataFrame(future_forecast_1year, index=next_year, columns=['Prediction'])"
   ]
  },
  {
   "cell_type": "code",
   "execution_count": null,
   "id": "997a03f0",
   "metadata": {},
   "outputs": [],
   "source": [
    "pd.concat([data,future_forecast_1year],axis=1).iplot()"
   ]
  },
  {
   "cell_type": "code",
   "execution_count": null,
   "id": "d74de4d0",
   "metadata": {},
   "outputs": [],
   "source": [
    "from sklearn.metrics import mean_absolute_error, mean_squared_error, mean_absolute_percentage_error\n",
    "custom_dates = pd.date_range(start='2023-05-05', periods=13, freq='D')  "
   ]
  },
  {
   "cell_type": "code",
   "execution_count": null,
   "id": "abd1061d",
   "metadata": {},
   "outputs": [],
   "source": [
    "metric = stepwise_model.predict(n_periods=13, index=custom_dates)"
   ]
  },
  {
   "cell_type": "code",
   "execution_count": null,
   "id": "c03e2d4d",
   "metadata": {},
   "outputs": [],
   "source": [
    "#mae = mean_absolute_error(test, val)\n",
    "#rmse = np.sqrt(mean_squared_error(test, val))\n",
    "mape = mean_absolute_percentage_error(test, val)"
   ]
  },
  {
   "cell_type": "code",
   "execution_count": null,
   "id": "8f31600a",
   "metadata": {},
   "outputs": [],
   "source": [
    "print(\"MAPE:\", mape)"
   ]
  },
  {
   "cell_type": "code",
   "execution_count": null,
   "id": "a6a8de3b",
   "metadata": {},
   "outputs": [],
   "source": []
  }
 ],
 "metadata": {
  "kernelspec": {
   "display_name": "Python 3 (ipykernel)",
   "language": "python",
   "name": "python3"
  },
  "language_info": {
   "codemirror_mode": {
    "name": "ipython",
    "version": 3
   },
   "file_extension": ".py",
   "mimetype": "text/x-python",
   "name": "python",
   "nbconvert_exporter": "python",
   "pygments_lexer": "ipython3",
   "version": "3.9.7"
  }
 },
 "nbformat": 4,
 "nbformat_minor": 5
}
