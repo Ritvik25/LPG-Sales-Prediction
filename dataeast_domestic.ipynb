{
 "cells": [
  {
   "cell_type": "code",
   "execution_count": 1,
   "id": "279c7e85",
   "metadata": {},
   "outputs": [],
   "source": [
    "import pandas as pd\n",
    "import numpy as np \n",
    "import re\n",
    "import matplotlib\n",
    "import matplotlib.pyplot as plt\n",
    "import seaborn as sns\n",
    "%matplotlib inline \n",
    "from statsmodels.tsa.stattools import adfuller\n",
    "from statsmodels.tsa.seasonal import seasonal_decompose\n",
    "from statsmodels.tsa.arima_model import ARIMA\n",
    "from pandas.plotting import register_matplotlib_converters\n",
    "register_matplotlib_converters()"
   ]
  },
  {
   "cell_type": "code",
   "execution_count": 2,
   "id": "276285ec",
   "metadata": {},
   "outputs": [],
   "source": [
    "data1=pd.read_csv(\"C:/Users/ritvi/Downloads/HPCL/FINAL DATA/fulldata_1.csv\")\n",
    "data2=pd.read_csv(\"C:/Users/ritvi/Downloads/HPCL/FINAL DATA/fulldata_2.csv\")\n",
    "data3=pd.read_csv(\"C:/Users/ritvi/Downloads/HPCL/FINAL DATA/fulldata_3.csv\")\n",
    "data4=pd.read_csv(\"C:/Users/ritvi/Downloads/HPCL/FINAL DATA/fulldata_4.csv\")\n",
    "data5=pd.read_csv(\"C:/Users/ritvi/Downloads/HPCL/FINAL DATA/fulldata_5.csv\")\n",
    "data6=pd.read_csv(\"C:/Users/ritvi/Downloads/HPCL/FINAL DATA/fulldata_6.csv\")"
   ]
  },
  {
   "cell_type": "code",
   "execution_count": 3,
   "id": "da9ca593",
   "metadata": {},
   "outputs": [],
   "source": [
    "data1234 = pd.concat([data1, data2, data3, data4], axis=0,ignore_index=True)"
   ]
  },
  {
   "cell_type": "code",
   "execution_count": 4,
   "id": "8854bb18",
   "metadata": {},
   "outputs": [],
   "source": [
    "data123456 = pd.concat([data1234, data5, data6], axis=0,ignore_index=True)"
   ]
  },
  {
   "cell_type": "code",
   "execution_count": 5,
   "id": "4411e57e",
   "metadata": {},
   "outputs": [
    {
     "data": {
      "text/html": [
       "<div>\n",
       "<style scoped>\n",
       "    .dataframe tbody tr th:only-of-type {\n",
       "        vertical-align: middle;\n",
       "    }\n",
       "\n",
       "    .dataframe tbody tr th {\n",
       "        vertical-align: top;\n",
       "    }\n",
       "\n",
       "    .dataframe thead th {\n",
       "        text-align: right;\n",
       "    }\n",
       "</style>\n",
       "<table border=\"1\" class=\"dataframe\">\n",
       "  <thead>\n",
       "    <tr style=\"text-align: right;\">\n",
       "      <th></th>\n",
       "      <th>dayenddate</th>\n",
       "      <th>dom_nondem</th>\n",
       "      <th>isempty</th>\n",
       "      <th>totalsale</th>\n",
       "      <th>zone_name</th>\n",
       "    </tr>\n",
       "  </thead>\n",
       "  <tbody>\n",
       "    <tr>\n",
       "      <th>0</th>\n",
       "      <td>08-04-2022</td>\n",
       "      <td>D</td>\n",
       "      <td>Y</td>\n",
       "      <td>0</td>\n",
       "      <td>North West LPG Zone</td>\n",
       "    </tr>\n",
       "    <tr>\n",
       "      <th>1</th>\n",
       "      <td>08-04-2022</td>\n",
       "      <td>D</td>\n",
       "      <td>Y</td>\n",
       "      <td>0</td>\n",
       "      <td>North West LPG Zone</td>\n",
       "    </tr>\n",
       "    <tr>\n",
       "      <th>2</th>\n",
       "      <td>08-04-2022</td>\n",
       "      <td>D</td>\n",
       "      <td>Y</td>\n",
       "      <td>0</td>\n",
       "      <td>North West LPG Zone</td>\n",
       "    </tr>\n",
       "    <tr>\n",
       "      <th>3</th>\n",
       "      <td>08-04-2022</td>\n",
       "      <td>D</td>\n",
       "      <td>Y</td>\n",
       "      <td>0</td>\n",
       "      <td>North West LPG Zone</td>\n",
       "    </tr>\n",
       "    <tr>\n",
       "      <th>4</th>\n",
       "      <td>08-04-2022</td>\n",
       "      <td>D</td>\n",
       "      <td>Y</td>\n",
       "      <td>0</td>\n",
       "      <td>North West LPG Zone</td>\n",
       "    </tr>\n",
       "    <tr>\n",
       "      <th>...</th>\n",
       "      <td>...</td>\n",
       "      <td>...</td>\n",
       "      <td>...</td>\n",
       "      <td>...</td>\n",
       "      <td>...</td>\n",
       "    </tr>\n",
       "    <tr>\n",
       "      <th>6035305</th>\n",
       "      <td>11-04-2023</td>\n",
       "      <td>N</td>\n",
       "      <td>N</td>\n",
       "      <td>0</td>\n",
       "      <td>North West LPG Zone</td>\n",
       "    </tr>\n",
       "    <tr>\n",
       "      <th>6035306</th>\n",
       "      <td>12-04-2023</td>\n",
       "      <td>N</td>\n",
       "      <td>N</td>\n",
       "      <td>0</td>\n",
       "      <td>North West LPG Zone</td>\n",
       "    </tr>\n",
       "    <tr>\n",
       "      <th>6035307</th>\n",
       "      <td>13-04-2023</td>\n",
       "      <td>N</td>\n",
       "      <td>N</td>\n",
       "      <td>0</td>\n",
       "      <td>North West LPG Zone</td>\n",
       "    </tr>\n",
       "    <tr>\n",
       "      <th>6035308</th>\n",
       "      <td>14-04-2023</td>\n",
       "      <td>N</td>\n",
       "      <td>N</td>\n",
       "      <td>0</td>\n",
       "      <td>North West LPG Zone</td>\n",
       "    </tr>\n",
       "    <tr>\n",
       "      <th>6035309</th>\n",
       "      <td>15-04-2023</td>\n",
       "      <td>N</td>\n",
       "      <td>N</td>\n",
       "      <td>371</td>\n",
       "      <td>North West LPG Zone</td>\n",
       "    </tr>\n",
       "  </tbody>\n",
       "</table>\n",
       "<p>6035310 rows × 5 columns</p>\n",
       "</div>"
      ],
      "text/plain": [
       "         dayenddate dom_nondem isempty  totalsale            zone_name\n",
       "0        08-04-2022          D       Y          0  North West LPG Zone\n",
       "1        08-04-2022          D       Y          0  North West LPG Zone\n",
       "2        08-04-2022          D       Y          0  North West LPG Zone\n",
       "3        08-04-2022          D       Y          0  North West LPG Zone\n",
       "4        08-04-2022          D       Y          0  North West LPG Zone\n",
       "...             ...        ...     ...        ...                  ...\n",
       "6035305  11-04-2023          N       N          0  North West LPG Zone\n",
       "6035306  12-04-2023          N       N          0  North West LPG Zone\n",
       "6035307  13-04-2023          N       N          0  North West LPG Zone\n",
       "6035308  14-04-2023          N       N          0  North West LPG Zone\n",
       "6035309  15-04-2023          N       N        371  North West LPG Zone\n",
       "\n",
       "[6035310 rows x 5 columns]"
      ]
     },
     "execution_count": 5,
     "metadata": {},
     "output_type": "execute_result"
    }
   ],
   "source": [
    "columns_to_drop = ['multiplication_factor', 'systemopeninggoodstock', 'systemclosinggoodstock','itemcategory','sales_area','ro_code','location_code','ro_name','sales_area_name','pricecode','jdedistributorcode','itemdescription']\n",
    "data = data123456.drop(columns=columns_to_drop, axis=1)\n",
    "data"
   ]
  },
  {
   "cell_type": "code",
   "execution_count": 6,
   "id": "70aec6bb",
   "metadata": {},
   "outputs": [],
   "source": [
    "dataeast=data[data['zone_name']=='North West LPG Zone']"
   ]
  },
  {
   "cell_type": "code",
   "execution_count": 7,
   "id": "2e31c00c",
   "metadata": {},
   "outputs": [],
   "source": [
    "Data_NONDEM=dataeast[dataeast['dom_nondem']=='N']\n",
    "Data_DOM=dataeast[dataeast['dom_nondem']=='D']"
   ]
  },
  {
   "cell_type": "code",
   "execution_count": 8,
   "id": "f8acee98",
   "metadata": {},
   "outputs": [
    {
     "data": {
      "text/html": [
       "<div>\n",
       "<style scoped>\n",
       "    .dataframe tbody tr th:only-of-type {\n",
       "        vertical-align: middle;\n",
       "    }\n",
       "\n",
       "    .dataframe tbody tr th {\n",
       "        vertical-align: top;\n",
       "    }\n",
       "\n",
       "    .dataframe thead th {\n",
       "        text-align: right;\n",
       "    }\n",
       "</style>\n",
       "<table border=\"1\" class=\"dataframe\">\n",
       "  <thead>\n",
       "    <tr style=\"text-align: right;\">\n",
       "      <th></th>\n",
       "      <th>dayenddate</th>\n",
       "      <th>dom_nondem</th>\n",
       "      <th>isempty</th>\n",
       "      <th>totalsale</th>\n",
       "      <th>zone_name</th>\n",
       "    </tr>\n",
       "  </thead>\n",
       "  <tbody>\n",
       "    <tr>\n",
       "      <th>0</th>\n",
       "      <td>08-04-2022</td>\n",
       "      <td>D</td>\n",
       "      <td>Y</td>\n",
       "      <td>0</td>\n",
       "      <td>East</td>\n",
       "    </tr>\n",
       "    <tr>\n",
       "      <th>1</th>\n",
       "      <td>08-04-2022</td>\n",
       "      <td>D</td>\n",
       "      <td>Y</td>\n",
       "      <td>0</td>\n",
       "      <td>East</td>\n",
       "    </tr>\n",
       "    <tr>\n",
       "      <th>2</th>\n",
       "      <td>08-04-2022</td>\n",
       "      <td>D</td>\n",
       "      <td>Y</td>\n",
       "      <td>0</td>\n",
       "      <td>East</td>\n",
       "    </tr>\n",
       "    <tr>\n",
       "      <th>3</th>\n",
       "      <td>08-04-2022</td>\n",
       "      <td>D</td>\n",
       "      <td>Y</td>\n",
       "      <td>0</td>\n",
       "      <td>East</td>\n",
       "    </tr>\n",
       "    <tr>\n",
       "      <th>4</th>\n",
       "      <td>08-04-2022</td>\n",
       "      <td>D</td>\n",
       "      <td>Y</td>\n",
       "      <td>0</td>\n",
       "      <td>East</td>\n",
       "    </tr>\n",
       "    <tr>\n",
       "      <th>...</th>\n",
       "      <td>...</td>\n",
       "      <td>...</td>\n",
       "      <td>...</td>\n",
       "      <td>...</td>\n",
       "      <td>...</td>\n",
       "    </tr>\n",
       "    <tr>\n",
       "      <th>445427</th>\n",
       "      <td>21-06-2023</td>\n",
       "      <td>D</td>\n",
       "      <td>N</td>\n",
       "      <td>1</td>\n",
       "      <td>East</td>\n",
       "    </tr>\n",
       "    <tr>\n",
       "      <th>445428</th>\n",
       "      <td>23-06-2023</td>\n",
       "      <td>D</td>\n",
       "      <td>N</td>\n",
       "      <td>0</td>\n",
       "      <td>East</td>\n",
       "    </tr>\n",
       "    <tr>\n",
       "      <th>445429</th>\n",
       "      <td>24-06-2023</td>\n",
       "      <td>D</td>\n",
       "      <td>N</td>\n",
       "      <td>0</td>\n",
       "      <td>East</td>\n",
       "    </tr>\n",
       "    <tr>\n",
       "      <th>445430</th>\n",
       "      <td>25-06-2023</td>\n",
       "      <td>D</td>\n",
       "      <td>N</td>\n",
       "      <td>0</td>\n",
       "      <td>East</td>\n",
       "    </tr>\n",
       "    <tr>\n",
       "      <th>445431</th>\n",
       "      <td>26-06-2023</td>\n",
       "      <td>D</td>\n",
       "      <td>N</td>\n",
       "      <td>0</td>\n",
       "      <td>East</td>\n",
       "    </tr>\n",
       "  </tbody>\n",
       "</table>\n",
       "<p>445432 rows × 5 columns</p>\n",
       "</div>"
      ],
      "text/plain": [
       "        dayenddate dom_nondem isempty  totalsale zone_name\n",
       "0       08-04-2022          D       Y          0      East\n",
       "1       08-04-2022          D       Y          0      East\n",
       "2       08-04-2022          D       Y          0      East\n",
       "3       08-04-2022          D       Y          0      East\n",
       "4       08-04-2022          D       Y          0      East\n",
       "...            ...        ...     ...        ...       ...\n",
       "445427  21-06-2023          D       N          1      East\n",
       "445428  23-06-2023          D       N          0      East\n",
       "445429  24-06-2023          D       N          0      East\n",
       "445430  25-06-2023          D       N          0      East\n",
       "445431  26-06-2023          D       N          0      East\n",
       "\n",
       "[445432 rows x 5 columns]"
      ]
     },
     "execution_count": 8,
     "metadata": {},
     "output_type": "execute_result"
    }
   ],
   "source": [
    "Data_DOM.drop(columns='dom_nondem',axis=1)\n",
    "Data_DOM = Data_DOM.reset_index(drop=True)\n",
    "Data_DOM"
   ]
  },
  {
   "cell_type": "code",
   "execution_count": 9,
   "id": "10c200db",
   "metadata": {},
   "outputs": [
    {
     "data": {
      "text/html": [
       "<div>\n",
       "<style scoped>\n",
       "    .dataframe tbody tr th:only-of-type {\n",
       "        vertical-align: middle;\n",
       "    }\n",
       "\n",
       "    .dataframe tbody tr th {\n",
       "        vertical-align: top;\n",
       "    }\n",
       "\n",
       "    .dataframe thead th {\n",
       "        text-align: right;\n",
       "    }\n",
       "</style>\n",
       "<table border=\"1\" class=\"dataframe\">\n",
       "  <thead>\n",
       "    <tr style=\"text-align: right;\">\n",
       "      <th></th>\n",
       "      <th>dayenddate</th>\n",
       "      <th>dom_nondem</th>\n",
       "      <th>isempty</th>\n",
       "      <th>totalsale</th>\n",
       "      <th>zone_name</th>\n",
       "    </tr>\n",
       "  </thead>\n",
       "  <tbody>\n",
       "    <tr>\n",
       "      <th>0</th>\n",
       "      <td>08-04-2022</td>\n",
       "      <td>D</td>\n",
       "      <td>Y</td>\n",
       "      <td>0</td>\n",
       "      <td>East</td>\n",
       "    </tr>\n",
       "    <tr>\n",
       "      <th>1</th>\n",
       "      <td>08-04-2022</td>\n",
       "      <td>D</td>\n",
       "      <td>Y</td>\n",
       "      <td>0</td>\n",
       "      <td>East</td>\n",
       "    </tr>\n",
       "    <tr>\n",
       "      <th>2</th>\n",
       "      <td>08-04-2022</td>\n",
       "      <td>D</td>\n",
       "      <td>Y</td>\n",
       "      <td>0</td>\n",
       "      <td>East</td>\n",
       "    </tr>\n",
       "    <tr>\n",
       "      <th>3</th>\n",
       "      <td>08-04-2022</td>\n",
       "      <td>D</td>\n",
       "      <td>Y</td>\n",
       "      <td>0</td>\n",
       "      <td>East</td>\n",
       "    </tr>\n",
       "    <tr>\n",
       "      <th>4</th>\n",
       "      <td>08-04-2022</td>\n",
       "      <td>D</td>\n",
       "      <td>Y</td>\n",
       "      <td>0</td>\n",
       "      <td>East</td>\n",
       "    </tr>\n",
       "  </tbody>\n",
       "</table>\n",
       "</div>"
      ],
      "text/plain": [
       "   dayenddate dom_nondem isempty  totalsale zone_name\n",
       "0  08-04-2022          D       Y          0      East\n",
       "1  08-04-2022          D       Y          0      East\n",
       "2  08-04-2022          D       Y          0      East\n",
       "3  08-04-2022          D       Y          0      East\n",
       "4  08-04-2022          D       Y          0      East"
      ]
     },
     "execution_count": 9,
     "metadata": {},
     "output_type": "execute_result"
    }
   ],
   "source": [
    "Data_DOM.head()"
   ]
  },
  {
   "cell_type": "code",
   "execution_count": 10,
   "id": "c9a58da9",
   "metadata": {},
   "outputs": [
    {
     "data": {
      "text/plain": [
       "6156       08-04-2022\n",
       "13335      15-01-2023\n",
       "20531      16-01-2023\n",
       "27733      17-01-2023\n",
       "34944      18-01-2023\n",
       "              ...    \n",
       "6035100    21-06-2023\n",
       "6035101    23-06-2023\n",
       "6035102    24-06-2023\n",
       "6035103    25-06-2023\n",
       "6035104    26-06-2023\n",
       "Name: dayenddate, Length: 576832, dtype: object"
      ]
     },
     "execution_count": 10,
     "metadata": {},
     "output_type": "execute_result"
    }
   ],
   "source": [
    "date_column=Data_NONDEM['dayenddate']\n",
    "date_column"
   ]
  },
  {
   "cell_type": "code",
   "execution_count": 11,
   "id": "785e46bb",
   "metadata": {},
   "outputs": [],
   "source": [
    "pattern = r'\\d{2}-\\d{2}-\\d{4}'\n",
    "inconsistent_dates = []\n",
    "for date in date_column:\n",
    "    if not re.match(pattern, str(date)):\n",
    "        inconsistent_dates.append(date)"
   ]
  },
  {
   "cell_type": "code",
   "execution_count": 12,
   "id": "c895d098",
   "metadata": {},
   "outputs": [
    {
     "name": "stdout",
     "output_type": "stream",
     "text": [
      "Date format is consistent in the dataset.\n"
     ]
    }
   ],
   "source": [
    "if inconsistent_dates:\n",
    "    print(\"Inconsistent dates found:\")\n",
    "    for date in inconsistent_dates:\n",
    "        print(date)\n",
    "else:\n",
    "    print(\"Date format is consistent in the dataset.\")"
   ]
  },
  {
   "cell_type": "code",
   "execution_count": 13,
   "id": "be20f2f6",
   "metadata": {},
   "outputs": [],
   "source": [
    "df=Data_DOM\n"
   ]
  },
  {
   "cell_type": "code",
   "execution_count": 14,
   "id": "e7cc7d90",
   "metadata": {},
   "outputs": [],
   "source": [
    "df['dayenddate'] = pd.to_datetime(df['dayenddate'], format='%d-%m-%Y').dt.strftime('%m-%d-%Y')"
   ]
  },
  {
   "cell_type": "code",
   "execution_count": 15,
   "id": "80aa2fab",
   "metadata": {},
   "outputs": [
    {
     "data": {
      "text/html": [
       "<div>\n",
       "<style scoped>\n",
       "    .dataframe tbody tr th:only-of-type {\n",
       "        vertical-align: middle;\n",
       "    }\n",
       "\n",
       "    .dataframe tbody tr th {\n",
       "        vertical-align: top;\n",
       "    }\n",
       "\n",
       "    .dataframe thead th {\n",
       "        text-align: right;\n",
       "    }\n",
       "</style>\n",
       "<table border=\"1\" class=\"dataframe\">\n",
       "  <thead>\n",
       "    <tr style=\"text-align: right;\">\n",
       "      <th></th>\n",
       "      <th>dayenddate</th>\n",
       "      <th>dom_nondem</th>\n",
       "      <th>isempty</th>\n",
       "      <th>totalsale</th>\n",
       "      <th>zone_name</th>\n",
       "    </tr>\n",
       "  </thead>\n",
       "  <tbody>\n",
       "    <tr>\n",
       "      <th>0</th>\n",
       "      <td>04-08-2022</td>\n",
       "      <td>D</td>\n",
       "      <td>Y</td>\n",
       "      <td>0</td>\n",
       "      <td>East</td>\n",
       "    </tr>\n",
       "    <tr>\n",
       "      <th>1</th>\n",
       "      <td>04-08-2022</td>\n",
       "      <td>D</td>\n",
       "      <td>Y</td>\n",
       "      <td>0</td>\n",
       "      <td>East</td>\n",
       "    </tr>\n",
       "    <tr>\n",
       "      <th>2</th>\n",
       "      <td>04-08-2022</td>\n",
       "      <td>D</td>\n",
       "      <td>Y</td>\n",
       "      <td>0</td>\n",
       "      <td>East</td>\n",
       "    </tr>\n",
       "    <tr>\n",
       "      <th>3</th>\n",
       "      <td>04-08-2022</td>\n",
       "      <td>D</td>\n",
       "      <td>Y</td>\n",
       "      <td>0</td>\n",
       "      <td>East</td>\n",
       "    </tr>\n",
       "    <tr>\n",
       "      <th>4</th>\n",
       "      <td>04-08-2022</td>\n",
       "      <td>D</td>\n",
       "      <td>Y</td>\n",
       "      <td>0</td>\n",
       "      <td>East</td>\n",
       "    </tr>\n",
       "    <tr>\n",
       "      <th>...</th>\n",
       "      <td>...</td>\n",
       "      <td>...</td>\n",
       "      <td>...</td>\n",
       "      <td>...</td>\n",
       "      <td>...</td>\n",
       "    </tr>\n",
       "    <tr>\n",
       "      <th>445427</th>\n",
       "      <td>06-21-2023</td>\n",
       "      <td>D</td>\n",
       "      <td>N</td>\n",
       "      <td>1</td>\n",
       "      <td>East</td>\n",
       "    </tr>\n",
       "    <tr>\n",
       "      <th>445428</th>\n",
       "      <td>06-23-2023</td>\n",
       "      <td>D</td>\n",
       "      <td>N</td>\n",
       "      <td>0</td>\n",
       "      <td>East</td>\n",
       "    </tr>\n",
       "    <tr>\n",
       "      <th>445429</th>\n",
       "      <td>06-24-2023</td>\n",
       "      <td>D</td>\n",
       "      <td>N</td>\n",
       "      <td>0</td>\n",
       "      <td>East</td>\n",
       "    </tr>\n",
       "    <tr>\n",
       "      <th>445430</th>\n",
       "      <td>06-25-2023</td>\n",
       "      <td>D</td>\n",
       "      <td>N</td>\n",
       "      <td>0</td>\n",
       "      <td>East</td>\n",
       "    </tr>\n",
       "    <tr>\n",
       "      <th>445431</th>\n",
       "      <td>06-26-2023</td>\n",
       "      <td>D</td>\n",
       "      <td>N</td>\n",
       "      <td>0</td>\n",
       "      <td>East</td>\n",
       "    </tr>\n",
       "  </tbody>\n",
       "</table>\n",
       "<p>445432 rows × 5 columns</p>\n",
       "</div>"
      ],
      "text/plain": [
       "        dayenddate dom_nondem isempty  totalsale zone_name\n",
       "0       04-08-2022          D       Y          0      East\n",
       "1       04-08-2022          D       Y          0      East\n",
       "2       04-08-2022          D       Y          0      East\n",
       "3       04-08-2022          D       Y          0      East\n",
       "4       04-08-2022          D       Y          0      East\n",
       "...            ...        ...     ...        ...       ...\n",
       "445427  06-21-2023          D       N          1      East\n",
       "445428  06-23-2023          D       N          0      East\n",
       "445429  06-24-2023          D       N          0      East\n",
       "445430  06-25-2023          D       N          0      East\n",
       "445431  06-26-2023          D       N          0      East\n",
       "\n",
       "[445432 rows x 5 columns]"
      ]
     },
     "execution_count": 15,
     "metadata": {},
     "output_type": "execute_result"
    }
   ],
   "source": [
    "df"
   ]
  },
  {
   "cell_type": "code",
   "execution_count": 16,
   "id": "5baa3394",
   "metadata": {},
   "outputs": [],
   "source": [
    "grouped_df = df.groupby('dayenddate',as_index=False)"
   ]
  },
  {
   "cell_type": "code",
   "execution_count": 17,
   "id": "270ae2b6",
   "metadata": {},
   "outputs": [],
   "source": [
    "grouped_sum = grouped_df['totalsale'].sum()"
   ]
  },
  {
   "cell_type": "code",
   "execution_count": 18,
   "id": "cb9d6757",
   "metadata": {},
   "outputs": [
    {
     "data": {
      "text/html": [
       "<div>\n",
       "<style scoped>\n",
       "    .dataframe tbody tr th:only-of-type {\n",
       "        vertical-align: middle;\n",
       "    }\n",
       "\n",
       "    .dataframe tbody tr th {\n",
       "        vertical-align: top;\n",
       "    }\n",
       "\n",
       "    .dataframe thead th {\n",
       "        text-align: right;\n",
       "    }\n",
       "</style>\n",
       "<table border=\"1\" class=\"dataframe\">\n",
       "  <thead>\n",
       "    <tr style=\"text-align: right;\">\n",
       "      <th></th>\n",
       "      <th>dayenddate</th>\n",
       "      <th>totalsale</th>\n",
       "    </tr>\n",
       "  </thead>\n",
       "  <tbody>\n",
       "    <tr>\n",
       "      <th>0</th>\n",
       "      <td>01-15-2023</td>\n",
       "      <td>94027</td>\n",
       "    </tr>\n",
       "    <tr>\n",
       "      <th>1</th>\n",
       "      <td>01-16-2023</td>\n",
       "      <td>157028</td>\n",
       "    </tr>\n",
       "    <tr>\n",
       "      <th>2</th>\n",
       "      <td>01-17-2023</td>\n",
       "      <td>197010</td>\n",
       "    </tr>\n",
       "    <tr>\n",
       "      <th>3</th>\n",
       "      <td>01-18-2023</td>\n",
       "      <td>203108</td>\n",
       "    </tr>\n",
       "    <tr>\n",
       "      <th>4</th>\n",
       "      <td>01-19-2023</td>\n",
       "      <td>199335</td>\n",
       "    </tr>\n",
       "    <tr>\n",
       "      <th>...</th>\n",
       "      <td>...</td>\n",
       "      <td>...</td>\n",
       "    </tr>\n",
       "    <tr>\n",
       "      <th>134</th>\n",
       "      <td>06-21-2023</td>\n",
       "      <td>165315</td>\n",
       "    </tr>\n",
       "    <tr>\n",
       "      <th>135</th>\n",
       "      <td>06-23-2023</td>\n",
       "      <td>182401</td>\n",
       "    </tr>\n",
       "    <tr>\n",
       "      <th>136</th>\n",
       "      <td>06-24-2023</td>\n",
       "      <td>178458</td>\n",
       "    </tr>\n",
       "    <tr>\n",
       "      <th>137</th>\n",
       "      <td>06-25-2023</td>\n",
       "      <td>113079</td>\n",
       "    </tr>\n",
       "    <tr>\n",
       "      <th>138</th>\n",
       "      <td>06-26-2023</td>\n",
       "      <td>331</td>\n",
       "    </tr>\n",
       "  </tbody>\n",
       "</table>\n",
       "<p>139 rows × 2 columns</p>\n",
       "</div>"
      ],
      "text/plain": [
       "     dayenddate  totalsale\n",
       "0    01-15-2023      94027\n",
       "1    01-16-2023     157028\n",
       "2    01-17-2023     197010\n",
       "3    01-18-2023     203108\n",
       "4    01-19-2023     199335\n",
       "..          ...        ...\n",
       "134  06-21-2023     165315\n",
       "135  06-23-2023     182401\n",
       "136  06-24-2023     178458\n",
       "137  06-25-2023     113079\n",
       "138  06-26-2023        331\n",
       "\n",
       "[139 rows x 2 columns]"
      ]
     },
     "execution_count": 18,
     "metadata": {},
     "output_type": "execute_result"
    }
   ],
   "source": [
    "df=grouped_sum\n",
    "df"
   ]
  },
  {
   "cell_type": "code",
   "execution_count": 19,
   "id": "3c8ac624",
   "metadata": {},
   "outputs": [
    {
     "data": {
      "text/plain": [
       "<AxesSubplot:>"
      ]
     },
     "execution_count": 19,
     "metadata": {},
     "output_type": "execute_result"
    },
    {
     "data": {
      "image/png": "[encoded data removed]",
      "text/plain": [
       "<Figure size 432x288 with 1 Axes>"
      ]
     },
     "metadata": {
      "needs_background": "light"
     },
     "output_type": "display_data"
    }
   ],
   "source": [
    "df['totalsale'].plot()"
   ]
  },
  {
   "cell_type": "code",
   "execution_count": 20,
   "id": "f80cd95c",
   "metadata": {},
   "outputs": [],
   "source": [
    "df.drop([138],inplace=True)"
   ]
  },
  {
   "cell_type": "code",
   "execution_count": 21,
   "id": "fc9353c0",
   "metadata": {},
   "outputs": [],
   "source": [
    "df=df.reset_index(drop=True)"
   ]
  },
  {
   "cell_type": "code",
   "execution_count": 22,
   "id": "d2a22f3d",
   "metadata": {},
   "outputs": [],
   "source": [
    "df = df.drop(df[df['dayenddate'] == '04-08-2022'].index)"
   ]
  },
  {
   "cell_type": "code",
   "execution_count": 23,
   "id": "6789b5af",
   "metadata": {},
   "outputs": [],
   "source": [
    "##CHECK FOR MISSING DATA##\n",
    "\n",
    "from datetime import timedelta\n",
    "df['dayenddate'] = pd.to_datetime(df['dayenddate'], format='%m-%d-%Y')\n",
    "df.set_index('dayenddate', inplace=True)\n"
   ]
  },
  {
   "cell_type": "code",
   "execution_count": 24,
   "id": "c2489d39",
   "metadata": {},
   "outputs": [],
   "source": [
    "min_date = df.index.min()\n",
    "max_date = df.index.max()\n",
    "complete_dates = pd.date_range(start=min_date, end=max_date)\n"
   ]
  },
  {
   "cell_type": "code",
   "execution_count": 25,
   "id": "c5388e6e",
   "metadata": {},
   "outputs": [],
   "source": [
    "missing_dates = set(complete_dates) - set(df.index)"
   ]
  },
  {
   "cell_type": "code",
   "execution_count": 26,
   "id": "2625aa9b",
   "metadata": {},
   "outputs": [
    {
     "name": "stdout",
     "output_type": "stream",
     "text": [
      "Missing dates:\n",
      "03/03/2023\n",
      "03/13/2023\n",
      "03/16/2023\n",
      "01/28/2023\n",
      "03/10/2023\n",
      "02/05/2023\n",
      "03/05/2023\n",
      "03/19/2023\n",
      "03/14/2023\n",
      "03/08/2023\n",
      "01/29/2023\n",
      "03/11/2023\n",
      "03/07/2023\n",
      "03/04/2023\n",
      "03/18/2023\n",
      "01/20/2023\n",
      "03/02/2023\n",
      "06/22/2023\n",
      "02/04/2023\n",
      "03/17/2023\n",
      "03/09/2023\n",
      "01/21/2023\n",
      "03/06/2023\n",
      "03/15/2023\n",
      "03/12/2023\n"
     ]
    }
   ],
   "source": [
    "print(\"Missing dates:\")\n",
    "for date in missing_dates:\n",
    "    print(date.strftime('%m/%d/%Y'))"
   ]
  },
  {
   "cell_type": "code",
   "execution_count": 27,
   "id": "89c6b352",
   "metadata": {},
   "outputs": [
    {
     "data": {
      "text/plain": [
       "<AxesSubplot:xlabel='dayenddate'>"
      ]
     },
     "execution_count": 27,
     "metadata": {},
     "output_type": "execute_result"
    },
    {
     "data": {
      "image/png": "[encoded data removed]",
      "text/plain": [
       "<Figure size 432x288 with 1 Axes>"
      ]
     },
     "metadata": {
      "needs_background": "light"
     },
     "output_type": "display_data"
    }
   ],
   "source": [
    "df['totalsale'].plot()"
   ]
  },
  {
   "cell_type": "code",
   "execution_count": 28,
   "id": "1854f6a2",
   "metadata": {},
   "outputs": [],
   "source": [
    "##APPENDING MISSING VALUES##\n",
    "\n",
    "min_date = df.index.min()\n",
    "max_date = df.index.max()\n",
    "complete_dates = pd.date_range(start=min_date, end=max_date)"
   ]
  },
  {
   "cell_type": "code",
   "execution_count": 29,
   "id": "a992fd7f",
   "metadata": {},
   "outputs": [],
   "source": [
    "df = df.reindex(complete_dates)"
   ]
  },
  {
   "cell_type": "code",
   "execution_count": 30,
   "id": "359ed431",
   "metadata": {},
   "outputs": [],
   "source": [
    "df.index.name = 'date'\n"
   ]
  },
  {
   "cell_type": "code",
   "execution_count": 31,
   "id": "2694b8bc",
   "metadata": {},
   "outputs": [
    {
     "data": {
      "text/plain": [
       "totalsale    25\n",
       "dtype: int64"
      ]
     },
     "execution_count": 31,
     "metadata": {},
     "output_type": "execute_result"
    }
   ],
   "source": [
    "df.isnull().sum()"
   ]
  },
  {
   "cell_type": "code",
   "execution_count": 32,
   "id": "8d905e2f",
   "metadata": {},
   "outputs": [],
   "source": [
    "df = df.fillna(df.shift(7))"
   ]
  },
  {
   "cell_type": "code",
   "execution_count": 33,
   "id": "49ec3815",
   "metadata": {},
   "outputs": [
    {
     "data": {
      "text/html": [
       "<div>\n",
       "<style scoped>\n",
       "    .dataframe tbody tr th:only-of-type {\n",
       "        vertical-align: middle;\n",
       "    }\n",
       "\n",
       "    .dataframe tbody tr th {\n",
       "        vertical-align: top;\n",
       "    }\n",
       "\n",
       "    .dataframe thead th {\n",
       "        text-align: right;\n",
       "    }\n",
       "</style>\n",
       "<table border=\"1\" class=\"dataframe\">\n",
       "  <thead>\n",
       "    <tr style=\"text-align: right;\">\n",
       "      <th></th>\n",
       "      <th>totalsale</th>\n",
       "    </tr>\n",
       "    <tr>\n",
       "      <th>date</th>\n",
       "      <th></th>\n",
       "    </tr>\n",
       "  </thead>\n",
       "  <tbody>\n",
       "    <tr>\n",
       "      <th>2023-01-15</th>\n",
       "      <td>94027.0</td>\n",
       "    </tr>\n",
       "    <tr>\n",
       "      <th>2023-01-16</th>\n",
       "      <td>157028.0</td>\n",
       "    </tr>\n",
       "    <tr>\n",
       "      <th>2023-01-17</th>\n",
       "      <td>197010.0</td>\n",
       "    </tr>\n",
       "    <tr>\n",
       "      <th>2023-01-18</th>\n",
       "      <td>203108.0</td>\n",
       "    </tr>\n",
       "    <tr>\n",
       "      <th>2023-01-19</th>\n",
       "      <td>199335.0</td>\n",
       "    </tr>\n",
       "    <tr>\n",
       "      <th>...</th>\n",
       "      <td>...</td>\n",
       "    </tr>\n",
       "    <tr>\n",
       "      <th>2023-06-21</th>\n",
       "      <td>165315.0</td>\n",
       "    </tr>\n",
       "    <tr>\n",
       "      <th>2023-06-22</th>\n",
       "      <td>150411.0</td>\n",
       "    </tr>\n",
       "    <tr>\n",
       "      <th>2023-06-23</th>\n",
       "      <td>182401.0</td>\n",
       "    </tr>\n",
       "    <tr>\n",
       "      <th>2023-06-24</th>\n",
       "      <td>178458.0</td>\n",
       "    </tr>\n",
       "    <tr>\n",
       "      <th>2023-06-25</th>\n",
       "      <td>113079.0</td>\n",
       "    </tr>\n",
       "  </tbody>\n",
       "</table>\n",
       "<p>162 rows × 1 columns</p>\n",
       "</div>"
      ],
      "text/plain": [
       "            totalsale\n",
       "date                 \n",
       "2023-01-15    94027.0\n",
       "2023-01-16   157028.0\n",
       "2023-01-17   197010.0\n",
       "2023-01-18   203108.0\n",
       "2023-01-19   199335.0\n",
       "...               ...\n",
       "2023-06-21   165315.0\n",
       "2023-06-22   150411.0\n",
       "2023-06-23   182401.0\n",
       "2023-06-24   178458.0\n",
       "2023-06-25   113079.0\n",
       "\n",
       "[162 rows x 1 columns]"
      ]
     },
     "execution_count": 33,
     "metadata": {},
     "output_type": "execute_result"
    }
   ],
   "source": [
    "df"
   ]
  },
  {
   "cell_type": "code",
   "execution_count": 34,
   "id": "3d4c697b",
   "metadata": {},
   "outputs": [
    {
     "data": {
      "text/plain": [
       "totalsale    8\n",
       "dtype: int64"
      ]
     },
     "execution_count": 34,
     "metadata": {},
     "output_type": "execute_result"
    }
   ],
   "source": [
    "df = df.fillna(df.shift(7))\n",
    "df.isnull().sum()"
   ]
  },
  {
   "cell_type": "code",
   "execution_count": 35,
   "id": "c494ccfc",
   "metadata": {},
   "outputs": [
    {
     "data": {
      "text/plain": [
       "totalsale    4\n",
       "dtype: int64"
      ]
     },
     "execution_count": 35,
     "metadata": {},
     "output_type": "execute_result"
    }
   ],
   "source": [
    "df = df.fillna(df.shift(7))\n",
    "df.isnull().sum()"
   ]
  },
  {
   "cell_type": "code",
   "execution_count": 36,
   "id": "d5e59d5f",
   "metadata": {},
   "outputs": [
    {
     "data": {
      "text/plain": [
       "totalsale    2\n",
       "dtype: int64"
      ]
     },
     "execution_count": 36,
     "metadata": {},
     "output_type": "execute_result"
    }
   ],
   "source": [
    "df = df.fillna(df.shift(-7))\n",
    "df.isnull().sum()"
   ]
  },
  {
   "cell_type": "code",
   "execution_count": 37,
   "id": "a32b62dd",
   "metadata": {},
   "outputs": [
    {
     "data": {
      "text/plain": [
       "<AxesSubplot:xlabel='date'>"
      ]
     },
     "execution_count": 37,
     "metadata": {},
     "output_type": "execute_result"
    },
    {
     "data": {
      "image/png": "[encoded data removed]",
      "text/plain": [
       "<Figure size 432x288 with 1 Axes>"
      ]
     },
     "metadata": {
      "needs_background": "light"
     },
     "output_type": "display_data"
    }
   ],
   "source": [
    "df['totalsale'].plot()"
   ]
  },
  {
   "cell_type": "code",
   "execution_count": 38,
   "id": "3b56eac4",
   "metadata": {},
   "outputs": [
    {
     "data": {
      "text/plain": [
       "totalsale    1\n",
       "dtype: int64"
      ]
     },
     "execution_count": 38,
     "metadata": {},
     "output_type": "execute_result"
    }
   ],
   "source": [
    "df = df.fillna(df.shift(-7))\n",
    "df.isnull().sum()"
   ]
  },
  {
   "cell_type": "code",
   "execution_count": 39,
   "id": "c0b2229e",
   "metadata": {
    "scrolled": true
   },
   "outputs": [
    {
     "data": {
      "text/plain": [
       "totalsale    0\n",
       "dtype: int64"
      ]
     },
     "execution_count": 39,
     "metadata": {},
     "output_type": "execute_result"
    }
   ],
   "source": [
    "df = df.fillna(df.shift(-7))\n",
    "df.isnull().sum()"
   ]
  },
  {
   "cell_type": "code",
   "execution_count": 40,
   "id": "cd02b5bd",
   "metadata": {},
   "outputs": [
    {
     "data": {
      "text/plain": [
       "<AxesSubplot:xlabel='date'>"
      ]
     },
     "execution_count": 40,
     "metadata": {},
     "output_type": "execute_result"
    },
    {
     "data": {
      "image/png": "[encoded data removed]",
      "text/plain": [
       "<Figure size 432x288 with 1 Axes>"
      ]
     },
     "metadata": {
      "needs_background": "light"
     },
     "output_type": "display_data"
    }
   ],
   "source": [
    "df['totalsale'].plot()"
   ]
  },
  {
   "cell_type": "code",
   "execution_count": 41,
   "id": "ff4444d1",
   "metadata": {},
   "outputs": [],
   "source": [
    "df.to_csv('east_domestic1.csv')"
   ]
  }
 ],
 "metadata": {
  "kernelspec": {
   "display_name": "Python 3 (ipykernel)",
   "language": "python",
   "name": "python3"
  },
  "language_info": {
   "codemirror_mode": {
    "name": "ipython",
    "version": 3
   },
   "file_extension": ".py",
   "mimetype": "text/x-python",
   "name": "python",
   "nbconvert_exporter": "python",
   "pygments_lexer": "ipython3",
   "version": "3.9.7"
  }
 },
 "nbformat": 4,
 "nbformat_minor": 5
}
